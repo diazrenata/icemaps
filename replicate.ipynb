{
 "cells": [
  {
   "cell_type": "markdown",
   "id": "4e5e58de",
   "metadata": {},
   "source": [
    "# Replication instructions\n",
    "\n",
    "These instructions assume you have a Mac and do not use Git. \n",
    "\n",
    "\n",
    "\n",
    "## Installs\n",
    "\n",
    "### Anaconda\n",
    "\n",
    "There are numerous options for setting up a Python workflow. I recommend installing Anaconda following [these instructions](https://carpentries.github.io/workshop-template/#python).\n",
    "\n",
    "\n",
    "### Cartopy\n",
    "\n",
    "Once you have installed Anaconda, you will need to install the `cartopy` Python package. The easiest is to open a Terminal window and run:\n",
    "\n",
    "`conda install -c conda-forge cartopy`  \n",
    "\n",
    "[Additional install options for cartopy](https://scitools.org.uk/cartopy/docs/latest/installing.html)\n",
    "    \n",
    "\n",
    "\n",
    "## Downloads\n",
    "\n",
    "### Code\n",
    "\n",
    "Go to https://github.com/diazrenata/icemaps and click on the green \"Code\" button. Select \"Download .zip\" and unzip the file.\n",
    "\n",
    "### Raw data\n",
    "\n",
    "The raw data files are included in `jpg_maps` and `csv_maps`. Alternatively, you can re-download them from the Earth Observations website (permalinks [here](https://github.com/diazrenata/icemaps/blob/main/README.md#credits)).\n",
    "\n",
    "\n",
    "## Re-running code\n",
    "\n",
    "Open Anaconda Navigator (from the Applications view or Launchpad). This will open a pane of different applications you can launch. \n",
    "\n",
    "Launch \"Jupyter Notebook\" (second row, first on the left). This will open in a window in your web browser with a representation of the file structure on your computer. Navigate to wherever you put the unzipped copy of https://github.com/diazrenata/icemaps. \n",
    "\n",
    "Open `process_maps.ipynb`. This will open a new tab. This tab is an interactive development environment where you can run blocks of Python code. To run a block of code, click in that code block and push \"Run\" in the top toolbar. \n",
    "\n",
    "Run each of the blocks under the \"Setup\" heading. These will import the packages you need and define the variables and functions needed for any of the maps.\n",
    "\n",
    "You can then run the blocks under each heading (Blue Marble side view, Blue Marble pole view, etc) in any order. Each of these will take a while to run because they are loading and saving large image files. \n",
    "\n",
    "The processed maps are saved to `processed_maps`. \n",
    "\n",
    "Note that the `set_save_img` function uses a toggle for background fill that is now deprecated. For these maps, the processed .pngs appear to come out with a transparent background by default, so I don't think this is a major issue. Fixing it would involve figuring out the `GeoAxes` syntax in `cartopy`."
   ]
  }
 ],
 "metadata": {
  "kernelspec": {
   "display_name": "Python 3 (ipykernel)",
   "language": "python",
   "name": "python3"
  },
  "language_info": {
   "codemirror_mode": {
    "name": "ipython",
    "version": 3
   },
   "file_extension": ".py",
   "mimetype": "text/x-python",
   "name": "python",
   "nbconvert_exporter": "python",
   "pygments_lexer": "ipython3",
   "version": "3.9.7"
  }
 },
 "nbformat": 4,
 "nbformat_minor": 5
}
