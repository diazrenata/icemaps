{
 "cells": [
  {
   "cell_type": "markdown",
   "id": "ba1835b7",
   "metadata": {},
   "source": [
    "Modified from https://github.com/eleanorlutz/earth_atlas_of_space/blob/main/raster_data.ipynb"
   ]
  },
  {
   "cell_type": "code",
   "execution_count": 1,
   "id": "f80ba049",
   "metadata": {},
   "outputs": [],
   "source": [
    "import glob\n",
    "import pandas as pd\n",
    "import numpy as np\n",
    "import cartopy.crs as ccrs\n",
    "\n",
    "import matplotlib\n",
    "import matplotlib.pyplot as plt\n",
    "import matplotlib.backends.backend_pdf as pdf\n",
    "from matplotlib.colors import LinearSegmentedColormap as lsc\n",
    "%matplotlib inline\n"
   ]
  },
  {
   "cell_type": "code",
   "execution_count": 2,
   "id": "ab538505",
   "metadata": {},
   "outputs": [],
   "source": [
    "# Define variables used across all maps (size, color, projection center points)\n",
    "\n",
    "figsize = (19.53/2, 18.55/2)\n",
    "figsize_small = (9.235*(835/5536), 9.235*(835/5536))\n",
    "\n",
    "ortho = [330, 30]\n",
    "ortho_opp = [150, 0]\n",
    "ortho_small = [60, 30]\n",
    "ortho_n = [330, 90]\n",
    "ortho_s = [330, -90]\n",
    "\n",
    "cloud_colors = ['#1a1538', '#315454', '#e7dac1']\n",
    "solar_colors = ['#ffffff', '#e7dac1', '#7c1516', '#381515']\n",
    "cloud_cmap = lsc.from_list(\"cloud_cmap\", cloud_colors)\n",
    "solar_cmap = lsc.from_list(\"solar_cmap\", solar_colors)\n",
    "img_extent = (-180, 180, -90, 90)"
   ]
  },
  {
   "cell_type": "code",
   "execution_count": 3,
   "id": "44134e7b",
   "metadata": {},
   "outputs": [],
   "source": [
    "# Define function to save images in a standardized way \n",
    "\n",
    "def set_save_image(fig, savename, dpi=600):\n",
    "    # Output text as editable PDF text objects instead of shapes\n",
    "    matplotlib.rcParams['pdf.fonttype'] = 42\n",
    "    \n",
    "    # Force PDF to respect zorder by supressing image compositing\n",
    "    matplotlib.rcParams['image.composite_image'] = False\n",
    "\n",
    "    # Remove borders on the plot axes\n",
    "    for ax in fig.get_axes():\n",
    "        ax.set_xticks([])\n",
    "        ax.set_yticks([])\n",
    "        ax.spines['bottom'].set_visible(False)\n",
    "        ax.spines['left'].set_visible(False)\n",
    "        ax.spines['top'].set_visible(False)\n",
    "        ax.spines['right'].set_visible(False)\n",
    "        try:\n",
    "            ax.set_global()\n",
    "            ax.background_patch.set_fill(False) # DeprecationWarning: The background_patch property is deprecated. Use GeoAxes.patch instead.GeoAxes.patch\n",
    "        except:\n",
    "            pass\n",
    "\n",
    "    # Remove all padding and margins\n",
    "    plt.subplots_adjust(top=1, bottom=0, right=1, left=0, hspace=0, wspace=0)\n",
    "    plt.margins(0,0)\n",
    "    plt.gca().xaxis.set_major_locator(matplotlib.pyplot.NullLocator())\n",
    "    plt.gca().yaxis.set_major_locator(matplotlib.pyplot.NullLocator())\n",
    "        \n",
    "    if savename.split('.')[-1] == 'pdf':\n",
    "        pp = pdf.PdfPages(savename, keep_empty=False)\n",
    "        pp.savefig(fig)\n",
    "        pp.close()\n",
    "    elif savename.split('.')[-1] == 'png':\n",
    "        plt.savefig(savename, format='png', dpi=dpi, pad_inches=0, transparent=True)\n",
    "    else:\n",
    "        print(\"Unrecognized file format, plot not saved!\")\n",
    "\n",
    "    plt.clf()\n",
    "    plt.close('all')\n"
   ]
  },
  {
   "cell_type": "code",
   "execution_count": null,
   "id": "d369f7a6",
   "metadata": {},
   "outputs": [],
   "source": [
    "filenames = glob.glob(\"jpg_maps/blue_marble/*.jpg\")\n",
    "filenames\n",
    "\n",
    "# recode as a for loop to run all months - for now just doing jan\n",
    "readname = filenames[0]\n",
    "month = readname.split(\"_\")[-1].split(\"\\\\\")[-1].split(\"_\")[0].split(\".\")[0]\n",
    "savename = 'processed_maps/blue_marble/'+month+'_earth.png'\n",
    "\n",
    "fig = plt.figure(figsize=figsize)\n",
    "ax = plt.axes(projection=ccrs.Orthographic(*ortho))\n",
    "img = plt.imread(readname)\n",
    "ax.imshow(img, origin='upper', extent=img_extent, transform=ccrs.PlateCarree(), \n",
    "        interpolation='spline36', regrid_shape=4000)\n",
    "    \n",
    "\n",
    "set_save_image(fig, savename)\n",
    "print(\"Finished with file for:\", month)"
   ]
  },
  {
   "cell_type": "code",
   "execution_count": null,
   "id": "b4d2ec92",
   "metadata": {},
   "outputs": [],
   "source": [
    "# PLOT ICE SHEETS FOR LARGE EARTH IMAGE AT CENTER\n",
    "\n",
    "filenames = glob.glob(\"csv_maps/sea_ice/*.CSV\")\n",
    "\n",
    "readname = filenames[0]\n",
    "\n",
    "month = readname.split(\"-\")[1]\n",
    "\n",
    "savename = \"processed_maps/sea_ice/\" +month+ \"_earth.png\"\n",
    "\n",
    "\n",
    "fig = plt.figure(figsize=figsize)\n",
    "ax = plt.axes(projection=ccrs.Orthographic(*ortho))\n",
    "df = pd.read_csv(readname, header=None)\n",
    "ax.imshow(df.values, origin='upper', extent=img_extent, transform=ccrs.PlateCarree(), \n",
    "              interpolation='spline36', regrid_shape=4000, cmap=\"gray\", vmin=0, vmax=100)\n",
    "\n",
    "\n",
    "set_save_image(fig, savename)\n",
    "print(\"Finished with file for:\", month)"
   ]
  },
  {
   "cell_type": "code",
   "execution_count": 13,
   "id": "7826a73c",
   "metadata": {},
   "outputs": [],
   "source": [
    "# PLOT ICE SHEETS FOR SMALL NORTH AND SOUTH GLOBES\n",
    "\n",
    "filenames = glob.glob(\"csv_maps/sea_ice/*.CSV\")\n",
    "orthos = ortho_n, ortho_s\n",
    "labels = \"N\", \"S\"\n",
    "\n",
    "filenames = filenames[0:2]\n",
    "\n",
    "\n"
   ]
  },
  {
   "cell_type": "code",
   "execution_count": 15,
   "id": "6334a1f5",
   "metadata": {},
   "outputs": [
    {
     "name": "stderr",
     "output_type": "stream",
     "text": [
      "/var/folders/4t/wld3283s0_98kx01lh0fggmh0000gn/T/ipykernel_44663/2242728433.py:20: DeprecationWarning: The background_patch property is deprecated. Use GeoAxes.patch instead.\n",
      "  ax.background_patch.set_fill(False) # DeprecationWarning: The background_patch property is deprecated. Use GeoAxes.patch instead.GeoAxes.patch\n"
     ]
    },
    {
     "name": "stdout",
     "output_type": "stream",
     "text": [
      "Finished with files for: N 01\n",
      "Finished with files for: S 01\n",
      "Finished with files for: N 04\n",
      "Finished with files for: S 04\n"
     ]
    }
   ],
   "source": [
    "\n",
    "for readname in filenames: \n",
    "    for orth, label in zip(orthos, labels):\n",
    "        month = readname.split(\"-\")[1]\n",
    "        savename = \"processed_maps/sea_ice/\"+label+\"_\"+month+'_earth.png'\n",
    "        \n",
    "        fig = plt.figure(figsize=figsize_small)\n",
    "        ax = plt.axes(projection=ccrs.Orthographic(*orth))\n",
    "        df = pd.read_csv(readname, header=None)\n",
    "        ax.imshow(df.values, origin='upper', extent=img_extent, transform=ccrs.PlateCarree(), \n",
    "                  interpolation='spline36', regrid_shape=4000, cmap=\"gray\", vmin=0, vmax=100)\n",
    "        \n",
    "        set_save_image(fig, savename)\n",
    "        print(\"Finished with files for:\", label, month)"
   ]
  },
  {
   "cell_type": "code",
   "execution_count": null,
   "id": "47ed0e7b",
   "metadata": {},
   "outputs": [],
   "source": []
  }
 ],
 "metadata": {
  "kernelspec": {
   "display_name": "Python 3 (ipykernel)",
   "language": "python",
   "name": "python3"
  },
  "language_info": {
   "codemirror_mode": {
    "name": "ipython",
    "version": 3
   },
   "file_extension": ".py",
   "mimetype": "text/x-python",
   "name": "python",
   "nbconvert_exporter": "python",
   "pygments_lexer": "ipython3",
   "version": "3.9.7"
  }
 },
 "nbformat": 4,
 "nbformat_minor": 5
}
