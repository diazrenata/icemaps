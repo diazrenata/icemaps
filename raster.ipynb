{
 "cells": [
  {
   "cell_type": "markdown",
   "id": "52d0bab9",
   "metadata": {},
   "source": [
    "Modified from https://github.com/eleanorlutz/earth_atlas_of_space/blob/main/raster_data.ipynb"
   ]
  },
  {
   "cell_type": "code",
   "execution_count": 1,
   "id": "995896fa",
   "metadata": {},
   "outputs": [],
   "source": [
    "import glob\n",
    "import pandas as pd\n",
    "import numpy as np\n",
    "import cartopy.crs as ccrs\n",
    "\n",
    "import matplotlib\n",
    "import matplotlib.pyplot as plt\n",
    "import matplotlib.backends.backend_pdf as pdf\n",
    "from matplotlib.colors import LinearSegmentedColormap as lsc\n",
    "%matplotlib inline\n"
   ]
  },
  {
   "cell_type": "code",
   "execution_count": 22,
   "id": "29a5e495",
   "metadata": {},
   "outputs": [],
   "source": [
    "# Define variables used across all maps (size, color, projection center points)\n",
    "\n",
    "figsize = (19.53/2, 18.55/2)\n",
    "figsize_small = (9.235*(835/5536), 9.235*(835/5536))\n",
    "\n",
    "ortho = [330, 30]\n",
    "ortho_opp = [150, 0]\n",
    "ortho_small = [60, 30]\n",
    "ortho_n = [330, 90]\n",
    "ortho_s = [330, -90]\n",
    "\n",
    "cloud_colors = ['#1a1538', '#315454', '#e7dac1']\n",
    "solar_colors = ['#ffffff', '#e7dac1', '#7c1516', '#381515']\n",
    "cloud_cmap = lsc.from_list(\"cloud_cmap\", cloud_colors)\n",
    "solar_cmap = lsc.from_list(\"solar_cmap\", solar_colors)\n",
    "img_extent = (-180, 180, -90, 90)"
   ]
  },
  {
   "cell_type": "code",
   "execution_count": 26,
   "id": "3cae1c30",
   "metadata": {},
   "outputs": [],
   "source": [
    "# Define function to save images in a standardized way \n",
    "\n",
    "def set_save_image(fig, savename, dpi=600):\n",
    "    # Output text as editable PDF text objects instead of shapes\n",
    "    matplotlib.rcParams['pdf.fonttype'] = 42\n",
    "    \n",
    "    # Force PDF to respect zorder by supressing image compositing\n",
    "    matplotlib.rcParams['image.composite_image'] = False\n",
    "\n",
    "    # Remove borders on the plot axes\n",
    "    for ax in fig.get_axes():\n",
    "        ax.set_xticks([])\n",
    "        ax.set_yticks([])\n",
    "        ax.spines['bottom'].set_visible(False)\n",
    "        ax.spines['left'].set_visible(False)\n",
    "        ax.spines['top'].set_visible(False)\n",
    "        ax.spines['right'].set_visible(False)\n",
    "        try:\n",
    "            ax.set_global()\n",
    "            ax.background_patch.set_fill(False)\n",
    "        except:\n",
    "            pass\n",
    "\n",
    "    # Remove all padding and margins\n",
    "    plt.subplots_adjust(top=1, bottom=0, right=1, left=0, hspace=0, wspace=0)\n",
    "    plt.margins(0,0)\n",
    "    plt.gca().xaxis.set_major_locator(matplotlib.pyplot.NullLocator())\n",
    "    plt.gca().yaxis.set_major_locator(matplotlib.pyplot.NullLocator())\n",
    "        \n",
    "    if savename.split('.')[-1] == 'pdf':\n",
    "        pp = pdf.PdfPages(savename, keep_empty=False)\n",
    "        pp.savefig(fig)\n",
    "        pp.close()\n",
    "    elif savename.split('.')[-1] == 'jpg':\n",
    "        plt.savefig(savename, format='jpg', dpi=dpi, pad_inches=0, transparent=True)\n",
    "    else:\n",
    "        print(\"Unrecognized file format, plot not saved!\")\n",
    "\n",
    "    plt.clf()\n",
    "    plt.close('all')\n"
   ]
  },
  {
   "cell_type": "code",
   "execution_count": 49,
   "id": "74430055",
   "metadata": {},
   "outputs": [
    {
     "name": "stdout",
     "output_type": "stream",
     "text": [
      "Unrecognized file format, plot not saved!\n",
      "Finished with file for: 1\n"
     ]
    },
    {
     "name": "stderr",
     "output_type": "stream",
     "text": [
      "/var/folders/4t/wld3283s0_98kx01lh0fggmh0000gn/T/ipykernel_44182/3740988028.py:20: DeprecationWarning: The background_patch property is deprecated. Use GeoAxes.patch instead.\n",
      "  ax.background_patch.set_fill(False)\n"
     ]
    }
   ],
   "source": [
    "filenames = glob.glob(\"jpg_maps/blue_marble/*.jpg\")\n",
    "filenames\n",
    "\n",
    "readname = filenames[0]\n",
    "month = readname.split(\"_\")[-1].split(\"\\\\\")[-1].split(\"_\")[0].split(\".\")[0]\n",
    "savename = 'processed_maps/blue_marble/'+month+'_earth.jpg'\n",
    "\n",
    "fig = plt.figure(figsize=figsize)\n",
    "ax = plt.axes(projection=ccrs.Orthographic(*ortho))\n",
    "img = plt.imread(readname)\n",
    "ax.imshow(img, origin='upper', extent=img_extent, transform=ccrs.PlateCarree(), \n",
    "        interpolation='spline36', regrid_shape=4000)\n",
    "    \n",
    "\n",
    "set_save_image(fig, savename)\n",
    "print(\"Finished with file for:\", month)"
   ]
  },
  {
   "cell_type": "code",
   "execution_count": null,
   "id": "c1334942",
   "metadata": {},
   "outputs": [],
   "source": []
  }
 ],
 "metadata": {
  "kernelspec": {
   "display_name": "Python 3 (ipykernel)",
   "language": "python",
   "name": "python3"
  },
  "language_info": {
   "codemirror_mode": {
    "name": "ipython",
    "version": 3
   },
   "file_extension": ".py",
   "mimetype": "text/x-python",
   "name": "python",
   "nbconvert_exporter": "python",
   "pygments_lexer": "ipython3",
   "version": "3.9.7"
  }
 },
 "nbformat": 4,
 "nbformat_minor": 5
}
