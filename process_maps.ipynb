{
 "cells": [
  {
   "cell_type": "markdown",
   "id": "bb80a0c7",
   "metadata": {},
   "source": [
    "Modified from [Eleanor Lutz's code](https://github.com/eleanorlutz/earth_atlas_of_space/blob/main/raster_data.ipynb) by Renata Diaz, April 2022.\n",
    "\n",
    "\n",
    "Requires the `cartopy` package - [installation here.](https://scitools.org.uk/cartopy/docs/latest/installing.html#installing)\n",
    "\n"
   ]
  },
  {
   "cell_type": "markdown",
   "id": "0da26435",
   "metadata": {},
   "source": [
    "## Setup"
   ]
  },
  {
   "cell_type": "code",
   "execution_count": null,
   "id": "5419e38e",
   "metadata": {},
   "outputs": [],
   "source": [
    "import glob\n",
    "import pandas as pd\n",
    "import numpy as np\n",
    "import cartopy.crs as ccrs\n",
    "\n",
    "import matplotlib\n",
    "import matplotlib.pyplot as plt\n",
    "import matplotlib.backends.backend_pdf as pdf\n",
    "from matplotlib.colors import LinearSegmentedColormap as lsc\n",
    "%matplotlib inline\n"
   ]
  },
  {
   "cell_type": "code",
   "execution_count": null,
   "id": "08735831",
   "metadata": {},
   "outputs": [],
   "source": [
    "# Define variables used across all maps (size, color, projection center points)\n",
    "\n",
    "figsize = (19.53/2, 18.55/2)\n",
    "figsize_small = (9.235*(835/5536), 9.235*(835/5536))\n",
    "\n",
    "ortho = [330, 30]\n",
    "ortho_opp = [150, 0]\n",
    "ortho_small = [60, 30]\n",
    "ortho_n = [330, 90]\n",
    "ortho_s = [330, -90]\n",
    "\n",
    "img_extent = (-180, 180, -90, 90)"
   ]
  },
  {
   "cell_type": "code",
   "execution_count": null,
   "id": "d895c78a",
   "metadata": {},
   "outputs": [],
   "source": [
    "# Define function to save images in a standardized way \n",
    "\n",
    "def set_save_image(fig, savename, dpi=600):\n",
    "    # Output text as editable PDF text objects instead of shapes\n",
    "    matplotlib.rcParams['pdf.fonttype'] = 42\n",
    "    \n",
    "    # Force PDF to respect zorder by supressing image compositing\n",
    "    matplotlib.rcParams['image.composite_image'] = False\n",
    "\n",
    "    # Remove borders on the plot axes\n",
    "    for ax in fig.get_axes():\n",
    "        ax.set_xticks([])\n",
    "        ax.set_yticks([])\n",
    "        ax.spines['bottom'].set_visible(False)\n",
    "        ax.spines['left'].set_visible(False)\n",
    "        ax.spines['top'].set_visible(False)\n",
    "        ax.spines['right'].set_visible(False)\n",
    "        try:\n",
    "            ax.set_global()\n",
    "            ax.background_patch.set_fill(False) # DeprecationWarning: The background_patch property is deprecated. Use GeoAxes.patch instead.GeoAxes.patch\n",
    "        except:\n",
    "            pass\n",
    "\n",
    "    # Remove all padding and margins\n",
    "    plt.subplots_adjust(top=1, bottom=0, right=1, left=0, hspace=0, wspace=0)\n",
    "    plt.margins(0,0)\n",
    "    plt.gca().xaxis.set_major_locator(matplotlib.pyplot.NullLocator())\n",
    "    plt.gca().yaxis.set_major_locator(matplotlib.pyplot.NullLocator())\n",
    "        \n",
    "    if savename.split('.')[-1] == 'pdf':\n",
    "        pp = pdf.PdfPages(savename, keep_empty=False)\n",
    "        pp.savefig(fig)\n",
    "        pp.close()\n",
    "    elif savename.split('.')[-1] == 'png':\n",
    "        plt.savefig(savename, format='png', dpi=dpi, pad_inches=0, transparent=True)\n",
    "    else:\n",
    "        print(\"Unrecognized file format, plot not saved!\")\n",
    "\n",
    "    plt.clf()\n",
    "    plt.close('all')\n"
   ]
  },
  {
   "cell_type": "markdown",
   "id": "a72253af",
   "metadata": {},
   "source": [
    "## Blue Marble side view"
   ]
  },
  {
   "cell_type": "code",
   "execution_count": null,
   "id": "ee8875d4",
   "metadata": {},
   "outputs": [],
   "source": [
    "filenames = glob.glob(\"jpg_maps/blue_marble/*.jpg\")\n",
    "filenames\n",
    "\n",
    "for readname in filenames:\n",
    "    month = readname.split(\"_\")[-1].split(\"\\\\\")[-1].split(\"_\")[0].split(\".\")[0]\n",
    "    savename = 'processed_maps/blue_marble/'+month+'_earth.png'\n",
    "\n",
    "    fig = plt.figure(figsize=figsize)\n",
    "    ax = plt.axes(projection=ccrs.Orthographic(*ortho))\n",
    "    img = plt.imread(readname)\n",
    "    ax.imshow(img, origin='upper', extent=img_extent, transform=ccrs.PlateCarree(), \n",
    "        interpolation='spline36', regrid_shape=4000)\n",
    "    \n",
    "\n",
    "    set_save_image(fig, savename)\n",
    "    print(\"Finished with file for:\", month)"
   ]
  },
  {
   "cell_type": "markdown",
   "id": "2c6bfe8e",
   "metadata": {},
   "source": [
    "## Sea Ice side view"
   ]
  },
  {
   "cell_type": "code",
   "execution_count": null,
   "id": "2453dffc",
   "metadata": {},
   "outputs": [],
   "source": [
    "# PLOT ICE SHEETS FOR LARGE EARTH IMAGE AT CENTER\n",
    "\n",
    "filenames = glob.glob(\"csv_maps/sea_ice/*.CSV\")\n",
    "\n",
    "for readname in filenames: \n",
    "    month = readname.split(\"-\")[1]\n",
    "    savename = \"processed_maps/sea_ice/\" +month+ \"_ice.png\"\n",
    "    fig = plt.figure(figsize=figsize)\n",
    "    ax = plt.axes(projection=ccrs.Orthographic(*ortho))\n",
    "    df = pd.read_csv(readname, header=None)\n",
    "    ax.imshow(df.values, origin='upper', extent=img_extent, transform=ccrs.PlateCarree(), \n",
    "              interpolation='spline36', regrid_shape=4000, cmap=\"gray\", vmin=0, vmax=100)\n",
    "    print(readname)\n",
    "\n",
    "\n",
    "    set_save_image(fig, savename)\n",
    "    print(\"Finished with file for:\", month)"
   ]
  },
  {
   "cell_type": "markdown",
   "id": "f596f953",
   "metadata": {},
   "source": [
    "## Sea Ice poles view"
   ]
  },
  {
   "cell_type": "code",
   "execution_count": null,
   "id": "81da1b59",
   "metadata": {},
   "outputs": [],
   "source": [
    "# PLOT ICE SHEETS FOR SMALL NORTH AND SOUTH GLOBES\n",
    "\n",
    "filenames = glob.glob(\"csv_maps/sea_ice/*.CSV\")\n",
    "orthos = ortho_n, ortho_s\n",
    "labels = \"N\", \"S\"\n",
    "\n",
    "\n",
    "\n",
    "for readname in filenames: \n",
    "    for orth, label in zip(orthos, labels):\n",
    "        month = readname.split(\"-\")[1]\n",
    "        savename = \"processed_maps/sea_ice/\"+label+\"_\"+month+'_ice.png'\n",
    "        \n",
    "        fig = plt.figure(figsize=figsize_small)\n",
    "        ax = plt.axes(projection=ccrs.Orthographic(*orth))\n",
    "        df = pd.read_csv(readname, header=None)\n",
    "        ax.imshow(df.values, origin='upper', extent=img_extent, transform=ccrs.PlateCarree(), \n",
    "                  interpolation='spline36', regrid_shape=4000, cmap=\"gray\", vmin=0, vmax=100)\n",
    "        \n",
    "        set_save_image(fig, savename)\n",
    "        print(\"Finished with files for:\", label, month)"
   ]
  },
  {
   "cell_type": "markdown",
   "id": "33b087d2",
   "metadata": {},
   "source": [
    "## Blue Marble pole views"
   ]
  },
  {
   "cell_type": "code",
   "execution_count": null,
   "id": "2ba4a262",
   "metadata": {},
   "outputs": [],
   "source": [
    "# PLOT RASTER IMAGES FOR SMALL EARTH IMAGES ON UPPER LEFT & RIGHT\n",
    "filenames = glob.glob(\"jpg_maps/blue_marble/*.jpg\")\n",
    "orthos = ortho_n, ortho_s\n",
    "labels = \"N\", \"S\"\n",
    "\n",
    "for readname in filenames: \n",
    "    for orth, label in zip(orthos, labels):\n",
    "        month = readname.split(\"_\")[-1].split(\"\\\\\")[-1].split(\"_\")[0].split(\".\")[0]\n",
    "        savename = \"processed_maps/blue_marble/\"+label+\"_\"+month+'_earth.png'\n",
    "        \n",
    "        fig = plt.figure(figsize=figsize_small)\n",
    "        ax = plt.axes(projection=ccrs.Orthographic(*orth))\n",
    "        img = plt.imread(readname)\n",
    "        ax.imshow(img, origin='upper', extent=img_extent, transform=ccrs.PlateCarree(), \n",
    "                  interpolation='spline36', regrid_shape=4000)\n",
    "\n",
    "        \n",
    "        set_save_image(fig, savename)\n",
    "        print(\"Finished with files for:\", label, month)"
   ]
  },
  {
   "cell_type": "markdown",
   "id": "f43c7014",
   "metadata": {},
   "source": [
    "<!-- Here I am just checking to see whether the GeoAxes patch thing seems to matter: -->"
   ]
  }
 ],
 "metadata": {
  "kernelspec": {
   "display_name": "Python 3 (ipykernel)",
   "language": "python",
   "name": "python3"
  },
  "language_info": {
   "codemirror_mode": {
    "name": "ipython",
    "version": 3
   },
   "file_extension": ".py",
   "mimetype": "text/x-python",
   "name": "python",
   "nbconvert_exporter": "python",
   "pygments_lexer": "ipython3",
   "version": "3.9.7"
  }
 },
 "nbformat": 4,
 "nbformat_minor": 5
}
