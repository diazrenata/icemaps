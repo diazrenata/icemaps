{
 "cells": [
  {
   "cell_type": "markdown",
   "id": "bb80a0c7",
   "metadata": {},
   "source": [
    "Modified from [Eleanor Lutz's code](https://github.com/eleanorlutz/earth_atlas_of_space/blob/main/raster_data.ipynb)\n",
    "Requires the `cartopy` package - [installation here](https://scitools.org.uk/cartopy/docs/latest/installing.html#installing)\n"
   ]
  },
  {
   "cell_type": "code",
   "execution_count": 1,
   "id": "5419e38e",
   "metadata": {},
   "outputs": [],
   "source": [
    "import glob\n",
    "import pandas as pd\n",
    "import numpy as np\n",
    "import cartopy.crs as ccrs\n",
    "\n",
    "import matplotlib\n",
    "import matplotlib.pyplot as plt\n",
    "import matplotlib.backends.backend_pdf as pdf\n",
    "from matplotlib.colors import LinearSegmentedColormap as lsc\n",
    "%matplotlib inline\n"
   ]
  },
  {
   "cell_type": "code",
   "execution_count": 2,
   "id": "08735831",
   "metadata": {},
   "outputs": [],
   "source": [
    "# Define variables used across all maps (size, color, projection center points)\n",
    "\n",
    "figsize = (19.53/2, 18.55/2)\n",
    "figsize_small = (9.235*(835/5536), 9.235*(835/5536))\n",
    "\n",
    "ortho = [330, 30]\n",
    "ortho_opp = [150, 0]\n",
    "ortho_small = [60, 30]\n",
    "ortho_n = [330, 90]\n",
    "ortho_s = [330, -90]\n",
    "\n",
    "img_extent = (-180, 180, -90, 90)"
   ]
  },
  {
   "cell_type": "code",
   "execution_count": 3,
   "id": "d895c78a",
   "metadata": {},
   "outputs": [],
   "source": [
    "# Define function to save images in a standardized way \n",
    "\n",
    "def set_save_image(fig, savename, dpi=600):\n",
    "    # Output text as editable PDF text objects instead of shapes\n",
    "    matplotlib.rcParams['pdf.fonttype'] = 42\n",
    "    \n",
    "    # Force PDF to respect zorder by supressing image compositing\n",
    "    matplotlib.rcParams['image.composite_image'] = False\n",
    "\n",
    "    # Remove borders on the plot axes\n",
    "    for ax in fig.get_axes():\n",
    "        ax.set_xticks([])\n",
    "        ax.set_yticks([])\n",
    "        ax.spines['bottom'].set_visible(False)\n",
    "        ax.spines['left'].set_visible(False)\n",
    "        ax.spines['top'].set_visible(False)\n",
    "        ax.spines['right'].set_visible(False)\n",
    "        try:\n",
    "            ax.set_global()\n",
    "            ax.background_patch.set_fill(False) # DeprecationWarning: The background_patch property is deprecated. Use GeoAxes.patch instead.GeoAxes.patch\n",
    "        except:\n",
    "            pass\n",
    "\n",
    "    # Remove all padding and margins\n",
    "    plt.subplots_adjust(top=1, bottom=0, right=1, left=0, hspace=0, wspace=0)\n",
    "    plt.margins(0,0)\n",
    "    plt.gca().xaxis.set_major_locator(matplotlib.pyplot.NullLocator())\n",
    "    plt.gca().yaxis.set_major_locator(matplotlib.pyplot.NullLocator())\n",
    "        \n",
    "    if savename.split('.')[-1] == 'pdf':\n",
    "        pp = pdf.PdfPages(savename, keep_empty=False)\n",
    "        pp.savefig(fig)\n",
    "        pp.close()\n",
    "    elif savename.split('.')[-1] == 'png':\n",
    "        plt.savefig(savename, format='png', dpi=dpi, pad_inches=0, transparent=True)\n",
    "    else:\n",
    "        print(\"Unrecognized file format, plot not saved!\")\n",
    "\n",
    "    plt.clf()\n",
    "    plt.close('all')\n"
   ]
  },
  {
   "cell_type": "code",
   "execution_count": 5,
   "id": "ee8875d4",
   "metadata": {},
   "outputs": [
    {
     "name": "stderr",
     "output_type": "stream",
     "text": [
      "/var/folders/4t/wld3283s0_98kx01lh0fggmh0000gn/T/ipykernel_47617/2242728433.py:20: DeprecationWarning: The background_patch property is deprecated. Use GeoAxes.patch instead.\n",
      "  ax.background_patch.set_fill(False) # DeprecationWarning: The background_patch property is deprecated. Use GeoAxes.patch instead.GeoAxes.patch\n"
     ]
    },
    {
     "name": "stdout",
     "output_type": "stream",
     "text": [
      "Finished with file for: 1\n",
      "Finished with file for: 2\n",
      "Finished with file for: 3\n",
      "Finished with file for: 7\n",
      "Finished with file for: 6\n",
      "Finished with file for: 4\n",
      "Finished with file for: 5\n",
      "Finished with file for: 8\n",
      "Finished with file for: 9\n",
      "Finished with file for: 12\n",
      "Finished with file for: 11\n",
      "Finished with file for: 10\n"
     ]
    }
   ],
   "source": [
    "filenames = glob.glob(\"jpg_maps/blue_marble/*.jpg\")\n",
    "filenames\n",
    "\n",
    "# recode as a for loop to run all months - for now just doing jan\n",
    "for readname in filenames:\n",
    "    month = readname.split(\"_\")[-1].split(\"\\\\\")[-1].split(\"_\")[0].split(\".\")[0]\n",
    "    savename = 'processed_maps/blue_marble/'+month+'_earth.png'\n",
    "\n",
    "    fig = plt.figure(figsize=figsize)\n",
    "    ax = plt.axes(projection=ccrs.Orthographic(*ortho))\n",
    "    img = plt.imread(readname)\n",
    "    ax.imshow(img, origin='upper', extent=img_extent, transform=ccrs.PlateCarree(), \n",
    "        interpolation='spline36', regrid_shape=4000)\n",
    "    \n",
    "\n",
    "    set_save_image(fig, savename)\n",
    "    print(\"Finished with file for:\", month)"
   ]
  },
  {
   "cell_type": "code",
   "execution_count": null,
   "id": "2453dffc",
   "metadata": {},
   "outputs": [],
   "source": [
    "# PLOT ICE SHEETS FOR LARGE EARTH IMAGE AT CENTER\n",
    "\n",
    "filenames = glob.glob(\"csv_maps/sea_ice/*.CSV\")\n",
    "\n",
    "for readname in filenames: \n",
    "    month = readname.split(\"-\")[1]\n",
    "    savename = \"processed_maps/sea_ice/\" +month+ \"_ice.png\"\n",
    "    fig = plt.figure(figsize=figsize)\n",
    "    ax = plt.axes(projection=ccrs.Orthographic(*ortho))\n",
    "    df = pd.read_csv(readname, header=None)\n",
    "    ax.imshow(df.values, origin='upper', extent=img_extent, transform=ccrs.PlateCarree(), \n",
    "              interpolation='spline36', regrid_shape=4000, cmap=\"gray\", vmin=0, vmax=100)\n",
    "    print(readname)\n",
    "\n",
    "\n",
    "    set_save_image(fig, savename)\n",
    "    print(\"Finished with file for:\", month)"
   ]
  },
  {
   "cell_type": "code",
   "execution_count": 7,
   "id": "035d89bf",
   "metadata": {},
   "outputs": [],
   "source": [
    "# PLOT ICE SHEETS FOR SMALL NORTH AND SOUTH GLOBES\n",
    "\n",
    "filenames = glob.glob(\"csv_maps/sea_ice/*.CSV\")\n",
    "orthos = ortho_n, ortho_s\n",
    "labels = \"N\", \"S\"\n",
    "\n",
    "#filenames = filenames[0:2]\n",
    "\n",
    "\n"
   ]
  },
  {
   "cell_type": "code",
   "execution_count": 8,
   "id": "81da1b59",
   "metadata": {},
   "outputs": [
    {
     "name": "stderr",
     "output_type": "stream",
     "text": [
      "/var/folders/4t/wld3283s0_98kx01lh0fggmh0000gn/T/ipykernel_48664/2242728433.py:20: DeprecationWarning: The background_patch property is deprecated. Use GeoAxes.patch instead.\n",
      "  ax.background_patch.set_fill(False) # DeprecationWarning: The background_patch property is deprecated. Use GeoAxes.patch instead.GeoAxes.patch\n"
     ]
    },
    {
     "name": "stdout",
     "output_type": "stream",
     "text": [
      "Finished with files for: N 01\n",
      "Finished with files for: S 01\n",
      "Finished with files for: N 04\n",
      "Finished with files for: S 04\n",
      "Finished with files for: N 05\n",
      "Finished with files for: S 05\n",
      "Finished with files for: N 12\n",
      "Finished with files for: S 12\n",
      "Finished with files for: N 11\n",
      "Finished with files for: S 11\n",
      "Finished with files for: N 06\n",
      "Finished with files for: S 06\n",
      "Finished with files for: N 03\n",
      "Finished with files for: S 03\n",
      "Finished with files for: N 09\n",
      "Finished with files for: S 09\n",
      "Finished with files for: N 10\n",
      "Finished with files for: S 10\n",
      "Finished with files for: N 08\n",
      "Finished with files for: S 08\n",
      "Finished with files for: N 07\n",
      "Finished with files for: S 07\n",
      "Finished with files for: N 02\n",
      "Finished with files for: S 02\n"
     ]
    }
   ],
   "source": [
    "\n",
    "for readname in filenames: \n",
    "    for orth, label in zip(orthos, labels):\n",
    "        month = readname.split(\"-\")[1]\n",
    "        savename = \"processed_maps/sea_ice/\"+label+\"_\"+month+'_ice.png'\n",
    "        \n",
    "        fig = plt.figure(figsize=figsize_small)\n",
    "        ax = plt.axes(projection=ccrs.Orthographic(*orth))\n",
    "        df = pd.read_csv(readname, header=None)\n",
    "        ax.imshow(df.values, origin='upper', extent=img_extent, transform=ccrs.PlateCarree(), \n",
    "                  interpolation='spline36', regrid_shape=4000, cmap=\"gray\", vmin=0, vmax=100)\n",
    "        \n",
    "        set_save_image(fig, savename)\n",
    "        print(\"Finished with files for:\", label, month)"
   ]
  },
  {
   "cell_type": "code",
   "execution_count": 4,
   "id": "2ba4a262",
   "metadata": {},
   "outputs": [
    {
     "name": "stderr",
     "output_type": "stream",
     "text": [
      "/var/folders/4t/wld3283s0_98kx01lh0fggmh0000gn/T/ipykernel_50520/2242728433.py:20: DeprecationWarning: The background_patch property is deprecated. Use GeoAxes.patch instead.\n",
      "  ax.background_patch.set_fill(False) # DeprecationWarning: The background_patch property is deprecated. Use GeoAxes.patch instead.GeoAxes.patch\n"
     ]
    },
    {
     "name": "stdout",
     "output_type": "stream",
     "text": [
      "Finished with files for: N 1\n",
      "Finished with files for: S 1\n",
      "Finished with files for: N 2\n",
      "Finished with files for: S 2\n",
      "Finished with files for: N 3\n",
      "Finished with files for: S 3\n",
      "Finished with files for: N 7\n",
      "Finished with files for: S 7\n",
      "Finished with files for: N 6\n",
      "Finished with files for: S 6\n",
      "Finished with files for: N 4\n",
      "Finished with files for: S 4\n",
      "Finished with files for: N 5\n",
      "Finished with files for: S 5\n",
      "Finished with files for: N 8\n",
      "Finished with files for: S 8\n",
      "Finished with files for: N 9\n",
      "Finished with files for: S 9\n",
      "Finished with files for: N 12\n",
      "Finished with files for: S 12\n",
      "Finished with files for: N 11\n",
      "Finished with files for: S 11\n",
      "Finished with files for: N 10\n",
      "Finished with files for: S 10\n"
     ]
    }
   ],
   "source": [
    "# PLOT RASTER IMAGES FOR SMALL EARTH IMAGES ON UPPER LEFT & RIGHT\n",
    "filenames = glob.glob(\"jpg_maps/blue_marble/*.jpg\")\n",
    "#filenames = filenames[0:2]\n",
    "orthos = ortho_n, ortho_s\n",
    "labels = \"N\", \"S\"\n",
    "\n",
    "for readname in filenames: \n",
    "    for orth, label in zip(orthos, labels):\n",
    "        month = readname.split(\"_\")[-1].split(\"\\\\\")[-1].split(\"_\")[0].split(\".\")[0]\n",
    "        savename = \"processed_maps/blue_marble/\"+label+\"_\"+month+'_earth.png'\n",
    "        \n",
    "        fig = plt.figure(figsize=figsize_small)\n",
    "        ax = plt.axes(projection=ccrs.Orthographic(*orth))\n",
    "        img = plt.imread(readname)\n",
    "        ax.imshow(img, origin='upper', extent=img_extent, transform=ccrs.PlateCarree(), \n",
    "                  interpolation='spline36', regrid_shape=4000)\n",
    "\n",
    "        \n",
    "        set_save_image(fig, savename)\n",
    "        print(\"Finished with files for:\", label, month)"
   ]
  },
  {
   "cell_type": "markdown",
   "id": "f43c7014",
   "metadata": {},
   "source": [
    "<!-- Here I am just checking to see whether the GeoAxes patch thing seems to matter: -->"
   ]
  },
  {
   "cell_type": "code",
   "execution_count": 5,
   "id": "7c963315",
   "metadata": {},
   "outputs": [
    {
     "name": "stderr",
     "output_type": "stream",
     "text": [
      "/var/folders/4t/wld3283s0_98kx01lh0fggmh0000gn/T/ipykernel_50520/3740775580.py:24: DeprecationWarning: The background_patch property is deprecated. Use GeoAxes.patch instead.\n",
      "  ax.background_patch.set_fill(True) # DeprecationWarning: The background_patch property is deprecated. Use GeoAxes.patch instead.GeoAxes.patch\n"
     ]
    },
    {
     "name": "stdout",
     "output_type": "stream",
     "text": [
      "Finished with files for: N 1\n",
      "Finished with files for: S 1\n",
      "Finished with files for: N 2\n"
     ]
    },
    {
     "ename": "KeyboardInterrupt",
     "evalue": "",
     "output_type": "error",
     "traceback": [
      "\u001b[0;31m---------------------------------------------------------------------------\u001b[0m",
      "\u001b[0;31mKeyboardInterrupt\u001b[0m                         Traceback (most recent call last)",
      "\u001b[0;32m/var/folders/4t/wld3283s0_98kx01lh0fggmh0000gn/T/ipykernel_50520/3740775580.py\u001b[0m in \u001b[0;36m<module>\u001b[0;34m\u001b[0m\n\u001b[1;32m     52\u001b[0m         \u001b[0max\u001b[0m \u001b[0;34m=\u001b[0m \u001b[0mplt\u001b[0m\u001b[0;34m.\u001b[0m\u001b[0maxes\u001b[0m\u001b[0;34m(\u001b[0m\u001b[0mprojection\u001b[0m\u001b[0;34m=\u001b[0m\u001b[0mccrs\u001b[0m\u001b[0;34m.\u001b[0m\u001b[0mOrthographic\u001b[0m\u001b[0;34m(\u001b[0m\u001b[0;34m*\u001b[0m\u001b[0morth\u001b[0m\u001b[0;34m)\u001b[0m\u001b[0;34m)\u001b[0m\u001b[0;34m\u001b[0m\u001b[0;34m\u001b[0m\u001b[0m\n\u001b[1;32m     53\u001b[0m         \u001b[0mimg\u001b[0m \u001b[0;34m=\u001b[0m \u001b[0mplt\u001b[0m\u001b[0;34m.\u001b[0m\u001b[0mimread\u001b[0m\u001b[0;34m(\u001b[0m\u001b[0mreadname\u001b[0m\u001b[0;34m)\u001b[0m\u001b[0;34m\u001b[0m\u001b[0;34m\u001b[0m\u001b[0m\n\u001b[0;32m---> 54\u001b[0;31m         ax.imshow(img, origin='upper', extent=img_extent, transform=ccrs.PlateCarree(), \n\u001b[0m\u001b[1;32m     55\u001b[0m                   interpolation='spline36', regrid_shape=4000)\n\u001b[1;32m     56\u001b[0m \u001b[0;34m\u001b[0m\u001b[0m\n",
      "\u001b[0;32m/opt/anaconda3/lib/python3.9/site-packages/cartopy/mpl/geoaxes.py\u001b[0m in \u001b[0;36mwrapper\u001b[0;34m(self, *args, **kwargs)\u001b[0m\n\u001b[1;32m    308\u001b[0m \u001b[0;34m\u001b[0m\u001b[0m\n\u001b[1;32m    309\u001b[0m         \u001b[0mkwargs\u001b[0m\u001b[0;34m[\u001b[0m\u001b[0;34m'transform'\u001b[0m\u001b[0;34m]\u001b[0m \u001b[0;34m=\u001b[0m \u001b[0mtransform\u001b[0m\u001b[0;34m\u001b[0m\u001b[0;34m\u001b[0m\u001b[0m\n\u001b[0;32m--> 310\u001b[0;31m         \u001b[0;32mreturn\u001b[0m \u001b[0mfunc\u001b[0m\u001b[0;34m(\u001b[0m\u001b[0mself\u001b[0m\u001b[0;34m,\u001b[0m \u001b[0;34m*\u001b[0m\u001b[0margs\u001b[0m\u001b[0;34m,\u001b[0m \u001b[0;34m**\u001b[0m\u001b[0mkwargs\u001b[0m\u001b[0;34m)\u001b[0m\u001b[0;34m\u001b[0m\u001b[0;34m\u001b[0m\u001b[0m\n\u001b[0m\u001b[1;32m    311\u001b[0m     \u001b[0;32mreturn\u001b[0m \u001b[0mwrapper\u001b[0m\u001b[0;34m\u001b[0m\u001b[0;34m\u001b[0m\u001b[0m\n\u001b[1;32m    312\u001b[0m \u001b[0;34m\u001b[0m\u001b[0m\n",
      "\u001b[0;32m/opt/anaconda3/lib/python3.9/site-packages/cartopy/mpl/geoaxes.py\u001b[0m in \u001b[0;36mimshow\u001b[0;34m(self, img, *args, **kwargs)\u001b[0m\n\u001b[1;32m   1283\u001b[0m                                                      target_extent)\n\u001b[1;32m   1284\u001b[0m             \u001b[0mwarp_array\u001b[0m \u001b[0;34m=\u001b[0m \u001b[0mcartopy\u001b[0m\u001b[0;34m.\u001b[0m\u001b[0mimg_transform\u001b[0m\u001b[0;34m.\u001b[0m\u001b[0mwarp_array\u001b[0m\u001b[0;34m\u001b[0m\u001b[0;34m\u001b[0m\u001b[0m\n\u001b[0;32m-> 1285\u001b[0;31m             img, extent = warp_array(img,\n\u001b[0m\u001b[1;32m   1286\u001b[0m                                      \u001b[0msource_proj\u001b[0m\u001b[0;34m=\u001b[0m\u001b[0mtransform\u001b[0m\u001b[0;34m,\u001b[0m\u001b[0;34m\u001b[0m\u001b[0;34m\u001b[0m\u001b[0m\n\u001b[1;32m   1287\u001b[0m                                      \u001b[0msource_extent\u001b[0m\u001b[0;34m=\u001b[0m\u001b[0mextent\u001b[0m\u001b[0;34m,\u001b[0m\u001b[0;34m\u001b[0m\u001b[0;34m\u001b[0m\u001b[0m\n",
      "\u001b[0;32m/opt/anaconda3/lib/python3.9/site-packages/cartopy/img_transform.py\u001b[0m in \u001b[0;36mwarp_array\u001b[0;34m(array, target_proj, source_proj, target_res, source_extent, target_extent, mask_extrapolated)\u001b[0m\n\u001b[1;32m    199\u001b[0m         x_extents=target_x_extents, y_extents=target_y_extents)\n\u001b[1;32m    200\u001b[0m \u001b[0;34m\u001b[0m\u001b[0m\n\u001b[0;32m--> 201\u001b[0;31m     array = regrid(array, source_native_xy[0], source_native_xy[1],\n\u001b[0m\u001b[1;32m    202\u001b[0m                    \u001b[0msource_proj\u001b[0m\u001b[0;34m,\u001b[0m \u001b[0mtarget_proj\u001b[0m\u001b[0;34m,\u001b[0m\u001b[0;34m\u001b[0m\u001b[0;34m\u001b[0m\u001b[0m\n\u001b[1;32m    203\u001b[0m                    \u001b[0mtarget_native_x\u001b[0m\u001b[0;34m,\u001b[0m \u001b[0mtarget_native_y\u001b[0m\u001b[0;34m,\u001b[0m\u001b[0;34m\u001b[0m\u001b[0;34m\u001b[0m\u001b[0m\n",
      "\u001b[0;32m/opt/anaconda3/lib/python3.9/site-packages/cartopy/img_transform.py\u001b[0m in \u001b[0;36mregrid\u001b[0;34m(array, source_x_coords, source_y_coords, source_cs, target_proj, target_x_points, target_y_points, mask_extrapolated)\u001b[0m\n\u001b[1;32m    275\u001b[0m     \u001b[0;31m# be a 2d np array)\u001b[0m\u001b[0;34m\u001b[0m\u001b[0;34m\u001b[0m\u001b[0m\n\u001b[1;32m    276\u001b[0m     \u001b[0mgeo_cent\u001b[0m \u001b[0;34m=\u001b[0m \u001b[0msource_cs\u001b[0m\u001b[0;34m.\u001b[0m\u001b[0mas_geocentric\u001b[0m\u001b[0;34m(\u001b[0m\u001b[0;34m)\u001b[0m\u001b[0;34m\u001b[0m\u001b[0;34m\u001b[0m\u001b[0m\n\u001b[0;32m--> 277\u001b[0;31m     xyz = geo_cent.transform_points(source_cs,\n\u001b[0m\u001b[1;32m    278\u001b[0m                                     \u001b[0msource_x_coords\u001b[0m\u001b[0;34m.\u001b[0m\u001b[0mflatten\u001b[0m\u001b[0;34m(\u001b[0m\u001b[0;34m)\u001b[0m\u001b[0;34m,\u001b[0m\u001b[0;34m\u001b[0m\u001b[0;34m\u001b[0m\u001b[0m\n\u001b[1;32m    279\u001b[0m                                     source_y_coords.flatten())\n",
      "\u001b[0;31mKeyboardInterrupt\u001b[0m: "
     ]
    },
    {
     "data": {
      "image/png": "[encoded data removed]",
      "text/plain": [
       "<Figure size 100.29x100.29 with 1 Axes>"
      ]
     },
     "metadata": {
      "needs_background": "light"
     },
     "output_type": "display_data"
    }
   ],
   "source": [
    "# # PLOT RASTER IMAGES FOR SMALL EARTH IMAGES ON UPPER LEFT & RIGHT\n",
    "# filenames = glob.glob(\"jpg_maps/blue_marble/*.jpg\")\n",
    "# filenames = filenames[0:2]\n",
    "# orthos = ortho_n, ortho_s\n",
    "# labels = \"N\", \"S\"\n",
    "\n",
    "# def set_save_image_bkg(fig, savename, dpi=600):\n",
    "#     # Output text as editable PDF text objects instead of shapes\n",
    "#     matplotlib.rcParams['pdf.fonttype'] = 42\n",
    "    \n",
    "#     # Force PDF to respect zorder by supressing image compositing\n",
    "#     matplotlib.rcParams['image.composite_image'] = False\n",
    "\n",
    "#     # Remove borders on the plot axes\n",
    "#     for ax in fig.get_axes():\n",
    "#         ax.set_xticks([])\n",
    "#         ax.set_yticks([])\n",
    "#         ax.spines['bottom'].set_visible(False)\n",
    "#         ax.spines['left'].set_visible(False)\n",
    "#         ax.spines['top'].set_visible(False)\n",
    "#         ax.spines['right'].set_visible(False)\n",
    "#         try:\n",
    "#             ax.set_global()\n",
    "#             ax.background_patch.set_fill(True) # DeprecationWarning: The background_patch property is deprecated. Use GeoAxes.patch instead.GeoAxes.patch\n",
    "#         except:\n",
    "#             pass\n",
    "\n",
    "#     # Remove all padding and margins\n",
    "#     plt.subplots_adjust(top=1, bottom=0, right=1, left=0, hspace=0, wspace=0)\n",
    "#     plt.margins(0,0)\n",
    "#     plt.gca().xaxis.set_major_locator(matplotlib.pyplot.NullLocator())\n",
    "#     plt.gca().yaxis.set_major_locator(matplotlib.pyplot.NullLocator())\n",
    "        \n",
    "#     if savename.split('.')[-1] == 'pdf':\n",
    "#         pp = pdf.PdfPages(savename, keep_empty=False)\n",
    "#         pp.savefig(fig)\n",
    "#         pp.close()\n",
    "#     elif savename.split('.')[-1] == 'png':\n",
    "#         plt.savefig(savename, format='png', dpi=dpi, pad_inches=0, transparent=True)\n",
    "#     else:\n",
    "#         print(\"Unrecognized file format, plot not saved!\")\n",
    "\n",
    "#     plt.clf()\n",
    "#     plt.close('all')\n",
    "\n",
    "# for readname in filenames: \n",
    "#     for orth, label in zip(orthos, labels):\n",
    "#         month = readname.split(\"_\")[-1].split(\"\\\\\")[-1].split(\"_\")[0].split(\".\")[0]\n",
    "#         savename = \"processed_maps/blue_marble/\"+label+\"_\"+month+'_earth_bkg.png'\n",
    "        \n",
    "#         fig = plt.figure(figsize=figsize_small)\n",
    "#         ax = plt.axes(projection=ccrs.Orthographic(*orth))\n",
    "#         img = plt.imread(readname)\n",
    "#         ax.imshow(img, origin='upper', extent=img_extent, transform=ccrs.PlateCarree(), \n",
    "#                   interpolation='spline36', regrid_shape=4000)\n",
    "\n",
    "        \n",
    "#         set_save_image_bkg(fig, savename)\n",
    "#         print(\"Finished with files for:\", label, month)"
   ]
  },
  {
   "cell_type": "code",
   "execution_count": null,
   "id": "ba026efd",
   "metadata": {},
   "outputs": [],
   "source": []
  }
 ],
 "metadata": {
  "kernelspec": {
   "display_name": "Python 3 (ipykernel)",
   "language": "python",
   "name": "python3"
  },
  "language_info": {
   "codemirror_mode": {
    "name": "ipython",
    "version": 3
   },
   "file_extension": ".py",
   "mimetype": "text/x-python",
   "name": "python",
   "nbconvert_exporter": "python",
   "pygments_lexer": "ipython3",
   "version": "3.9.7"
  }
 },
 "nbformat": 4,
 "nbformat_minor": 5
}
